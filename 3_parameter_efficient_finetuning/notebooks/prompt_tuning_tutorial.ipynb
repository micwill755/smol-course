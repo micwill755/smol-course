{
 "cells": [
  {
   "cell_type": "markdown",
   "metadata": {},
   "source": [
    "# Prompt Tuning with SmolLM: A Beginner's Guide\n",
    "\n",
    "This notebook demonstrates how to set up and use prompt tuning with a SmolLM model using the PEFT library. Prompt tuning is a parameter-efficient method that adds trainable \"soft prompts\" while keeping the base model frozen.\n",
    "\n",
    "## What You'll Learn\n",
    "- How to load a SmolLM model\n",
    "- Configure prompt tuning with PEFT\n",
    "- Train soft prompts for sentiment classification\n",
    "- Compare performance with and without prompt tuning"
   ]
  },
  {
   "cell_type": "markdown",
   "metadata": {},
   "source": [
    "## 1. Install Dependencies\n",
    "\n",
    "First, let's install the required packages:"
   ]
  },
  {
   "cell_type": "code",
   "execution_count": 25,
   "metadata": {},
   "outputs": [
    {
     "name": "stderr",
     "output_type": "stream",
     "text": [
      "huggingface/tokenizers: The current process just got forked, after parallelism has already been used. Disabling parallelism to avoid deadlocks...\n",
      "To disable this warning, you can either:\n",
      "\t- Avoid using `tokenizers` before the fork if possible\n",
      "\t- Explicitly set the environment variable TOKENIZERS_PARALLELISM=(true | false)\n"
     ]
    },
    {
     "name": "stdout",
     "output_type": "stream",
     "text": [
      "Requirement already satisfied: transformers in /Library/Frameworks/Python.framework/Versions/3.13/lib/python3.13/site-packages (4.52.4)\n",
      "Requirement already satisfied: peft in /Library/Frameworks/Python.framework/Versions/3.13/lib/python3.13/site-packages (0.17.1)\n",
      "Requirement already satisfied: torch in /Library/Frameworks/Python.framework/Versions/3.13/lib/python3.13/site-packages (2.7.0)\n",
      "Requirement already satisfied: datasets in /Library/Frameworks/Python.framework/Versions/3.13/lib/python3.13/site-packages (4.0.0)\n",
      "Requirement already satisfied: accelerate in /Library/Frameworks/Python.framework/Versions/3.13/lib/python3.13/site-packages (1.10.0)\n",
      "Requirement already satisfied: filelock in /Library/Frameworks/Python.framework/Versions/3.13/lib/python3.13/site-packages (from transformers) (3.18.0)\n",
      "Requirement already satisfied: huggingface-hub<1.0,>=0.30.0 in /Library/Frameworks/Python.framework/Versions/3.13/lib/python3.13/site-packages (from transformers) (0.32.5)\n",
      "Requirement already satisfied: numpy>=1.17 in /Library/Frameworks/Python.framework/Versions/3.13/lib/python3.13/site-packages (from transformers) (1.26.4)\n",
      "Requirement already satisfied: packaging>=20.0 in /Library/Frameworks/Python.framework/Versions/3.13/lib/python3.13/site-packages (from transformers) (24.2)\n",
      "Requirement already satisfied: pyyaml>=5.1 in /Library/Frameworks/Python.framework/Versions/3.13/lib/python3.13/site-packages (from transformers) (6.0.2)\n",
      "Requirement already satisfied: regex!=2019.12.17 in /Library/Frameworks/Python.framework/Versions/3.13/lib/python3.13/site-packages (from transformers) (2024.11.6)\n",
      "Requirement already satisfied: requests in /Library/Frameworks/Python.framework/Versions/3.13/lib/python3.13/site-packages (from transformers) (2.32.3)\n",
      "Requirement already satisfied: tokenizers<0.22,>=0.21 in /Library/Frameworks/Python.framework/Versions/3.13/lib/python3.13/site-packages (from transformers) (0.21.1)\n",
      "Requirement already satisfied: safetensors>=0.4.3 in /Library/Frameworks/Python.framework/Versions/3.13/lib/python3.13/site-packages (from transformers) (0.5.3)\n",
      "Requirement already satisfied: tqdm>=4.27 in /Library/Frameworks/Python.framework/Versions/3.13/lib/python3.13/site-packages (from transformers) (4.67.0)\n",
      "Requirement already satisfied: fsspec>=2023.5.0 in /Library/Frameworks/Python.framework/Versions/3.13/lib/python3.13/site-packages (from huggingface-hub<1.0,>=0.30.0->transformers) (2025.3.0)\n",
      "Requirement already satisfied: typing-extensions>=3.7.4.3 in /Library/Frameworks/Python.framework/Versions/3.13/lib/python3.13/site-packages (from huggingface-hub<1.0,>=0.30.0->transformers) (4.14.0)\n",
      "Requirement already satisfied: hf-xet<2.0.0,>=1.1.2 in /Library/Frameworks/Python.framework/Versions/3.13/lib/python3.13/site-packages (from huggingface-hub<1.0,>=0.30.0->transformers) (1.1.3)\n",
      "Requirement already satisfied: psutil in /Library/Frameworks/Python.framework/Versions/3.13/lib/python3.13/site-packages (from peft) (7.0.0)\n",
      "Requirement already satisfied: setuptools in /Library/Frameworks/Python.framework/Versions/3.13/lib/python3.13/site-packages (from torch) (78.1.0)\n",
      "Requirement already satisfied: sympy>=1.13.3 in /Library/Frameworks/Python.framework/Versions/3.13/lib/python3.13/site-packages (from torch) (1.14.0)\n",
      "Requirement already satisfied: networkx in /Library/Frameworks/Python.framework/Versions/3.13/lib/python3.13/site-packages (from torch) (3.5)\n",
      "Requirement already satisfied: jinja2 in /Library/Frameworks/Python.framework/Versions/3.13/lib/python3.13/site-packages (from torch) (3.1.2)\n",
      "Requirement already satisfied: pyarrow>=15.0.0 in /Library/Frameworks/Python.framework/Versions/3.13/lib/python3.13/site-packages (from datasets) (18.0.0)\n",
      "Requirement already satisfied: dill<0.3.9,>=0.3.0 in /Library/Frameworks/Python.framework/Versions/3.13/lib/python3.13/site-packages (from datasets) (0.3.8)\n",
      "Requirement already satisfied: pandas in /Library/Frameworks/Python.framework/Versions/3.13/lib/python3.13/site-packages (from datasets) (2.2.3)\n",
      "Requirement already satisfied: xxhash in /Library/Frameworks/Python.framework/Versions/3.13/lib/python3.13/site-packages (from datasets) (3.5.0)\n",
      "Requirement already satisfied: multiprocess<0.70.17 in /Library/Frameworks/Python.framework/Versions/3.13/lib/python3.13/site-packages (from datasets) (0.70.16)\n",
      "Requirement already satisfied: aiohttp!=4.0.0a0,!=4.0.0a1 in /Library/Frameworks/Python.framework/Versions/3.13/lib/python3.13/site-packages (from fsspec[http]<=2025.3.0,>=2023.1.0->datasets) (3.12.15)\n",
      "Requirement already satisfied: aiohappyeyeballs>=2.5.0 in /Library/Frameworks/Python.framework/Versions/3.13/lib/python3.13/site-packages (from aiohttp!=4.0.0a0,!=4.0.0a1->fsspec[http]<=2025.3.0,>=2023.1.0->datasets) (2.6.1)\n",
      "Requirement already satisfied: aiosignal>=1.4.0 in /Library/Frameworks/Python.framework/Versions/3.13/lib/python3.13/site-packages (from aiohttp!=4.0.0a0,!=4.0.0a1->fsspec[http]<=2025.3.0,>=2023.1.0->datasets) (1.4.0)\n",
      "Requirement already satisfied: attrs>=17.3.0 in /Library/Frameworks/Python.framework/Versions/3.13/lib/python3.13/site-packages (from aiohttp!=4.0.0a0,!=4.0.0a1->fsspec[http]<=2025.3.0,>=2023.1.0->datasets) (23.2.0)\n",
      "Requirement already satisfied: frozenlist>=1.1.1 in /Library/Frameworks/Python.framework/Versions/3.13/lib/python3.13/site-packages (from aiohttp!=4.0.0a0,!=4.0.0a1->fsspec[http]<=2025.3.0,>=2023.1.0->datasets) (1.7.0)\n",
      "Requirement already satisfied: multidict<7.0,>=4.5 in /Library/Frameworks/Python.framework/Versions/3.13/lib/python3.13/site-packages (from aiohttp!=4.0.0a0,!=4.0.0a1->fsspec[http]<=2025.3.0,>=2023.1.0->datasets) (6.6.4)\n",
      "Requirement already satisfied: propcache>=0.2.0 in /Library/Frameworks/Python.framework/Versions/3.13/lib/python3.13/site-packages (from aiohttp!=4.0.0a0,!=4.0.0a1->fsspec[http]<=2025.3.0,>=2023.1.0->datasets) (0.3.2)\n",
      "Requirement already satisfied: yarl<2.0,>=1.17.0 in /Library/Frameworks/Python.framework/Versions/3.13/lib/python3.13/site-packages (from aiohttp!=4.0.0a0,!=4.0.0a1->fsspec[http]<=2025.3.0,>=2023.1.0->datasets) (1.20.1)\n",
      "Requirement already satisfied: idna>=2.0 in /Library/Frameworks/Python.framework/Versions/3.13/lib/python3.13/site-packages (from yarl<2.0,>=1.17.0->aiohttp!=4.0.0a0,!=4.0.0a1->fsspec[http]<=2025.3.0,>=2023.1.0->datasets) (3.10)\n",
      "Requirement already satisfied: charset-normalizer<4,>=2 in /Library/Frameworks/Python.framework/Versions/3.13/lib/python3.13/site-packages (from requests->transformers) (3.4.0)\n",
      "Requirement already satisfied: urllib3<3,>=1.21.1 in /Library/Frameworks/Python.framework/Versions/3.13/lib/python3.13/site-packages (from requests->transformers) (2.2.3)\n",
      "Requirement already satisfied: certifi>=2017.4.17 in /Library/Frameworks/Python.framework/Versions/3.13/lib/python3.13/site-packages (from requests->transformers) (2024.8.30)\n",
      "Requirement already satisfied: mpmath<1.4,>=1.1.0 in /Library/Frameworks/Python.framework/Versions/3.13/lib/python3.13/site-packages (from sympy>=1.13.3->torch) (1.3.0)\n",
      "Requirement already satisfied: MarkupSafe>=2.0 in /Library/Frameworks/Python.framework/Versions/3.13/lib/python3.13/site-packages (from jinja2->torch) (2.1.3)\n",
      "Requirement already satisfied: python-dateutil>=2.8.2 in /Library/Frameworks/Python.framework/Versions/3.13/lib/python3.13/site-packages (from pandas->datasets) (2.9.0.post0)\n",
      "Requirement already satisfied: pytz>=2020.1 in /Library/Frameworks/Python.framework/Versions/3.13/lib/python3.13/site-packages (from pandas->datasets) (2024.2)\n",
      "Requirement already satisfied: tzdata>=2022.7 in /Library/Frameworks/Python.framework/Versions/3.13/lib/python3.13/site-packages (from pandas->datasets) (2024.2)\n",
      "Requirement already satisfied: six>=1.5 in /Library/Frameworks/Python.framework/Versions/3.13/lib/python3.13/site-packages (from python-dateutil>=2.8.2->pandas->datasets) (1.16.0)\n"
     ]
    }
   ],
   "source": [
    "!pip install transformers peft torch datasets accelerate"
   ]
  },
  {
   "cell_type": "markdown",
   "metadata": {},
   "source": [
    "## 2. Import Libraries"
   ]
  },
  {
   "cell_type": "code",
   "execution_count": 26,
   "metadata": {},
   "outputs": [],
   "source": [
    "import torch\n",
    "from transformers import AutoModelForCausalLM, AutoTokenizer, TrainingArguments, Trainer\n",
    "from peft import PromptTuningConfig, TaskType, get_peft_model\n",
    "from datasets import Dataset\n",
    "import numpy as np"
   ]
  },
  {
   "cell_type": "markdown",
   "metadata": {},
   "source": [
    "## 3. Load SmolLM Model and Tokenizer\n",
    "\n",
    "We'll use SmolLM2-135M, a small but capable language model:"
   ]
  },
  {
   "cell_type": "code",
   "execution_count": 27,
   "metadata": {},
   "outputs": [
    {
     "name": "stdout",
     "output_type": "stream",
     "text": [
      "Model loaded: HuggingFaceTB/SmolLM2-135M\n",
      "Model parameters: 134,515,008\n"
     ]
    }
   ],
   "source": [
    "# Load the base model and tokenizer\n",
    "model_name = \"HuggingFaceTB/SmolLM2-135M\"\n",
    "\n",
    "model = AutoModelForCausalLM.from_pretrained(\n",
    "    model_name,\n",
    "    torch_dtype=torch.float16,\n",
    "    device_map=\"auto\"\n",
    ")\n",
    "\n",
    "tokenizer = AutoTokenizer.from_pretrained(model_name)\n",
    "\n",
    "# Add padding token if it doesn't exist\n",
    "if tokenizer.pad_token is None:\n",
    "    tokenizer.pad_token = tokenizer.eos_token\n",
    "\n",
    "print(f\"Model loaded: {model_name}\")\n",
    "print(f\"Model parameters: {model.num_parameters():,}\")"
   ]
  },
  {
   "cell_type": "markdown",
   "metadata": {},
   "source": [
    "## 4. Test Base Model (Before Prompt Tuning)\n",
    "\n",
    "Let's see how the model performs on sentiment classification without any training:"
   ]
  },
  {
   "cell_type": "code",
   "execution_count": 29,
   "metadata": {},
   "outputs": [
    {
     "name": "stdout",
     "output_type": "stream",
     "text": [
      "Base model response:\n",
      "Classify the sentiment: 'This movie is amazing!' Sentiment: 'This movie is great!'\n",
      "\n",
      "[15] The only one who did that was C.J. Walker, who said: 'I am a film critic. I\n"
     ]
    }
   ],
   "source": [
    "def test_model(model, tokenizer, text, max_length=50):\n",
    "    \"\"\"Test the model with a given input text\"\"\"\n",
    "    inputs = tokenizer(text, return_tensors=\"pt\", padding=True)\n",
    "    # Move inputs to the same device as the model\n",
    "    inputs = {k: v.to(model.device) for k, v in inputs.items()}\n",
    "    \n",
    "    with torch.no_grad():\n",
    "        outputs = model.generate(\n",
    "            **inputs,\n",
    "            max_length=max_length,\n",
    "            do_sample=True,\n",
    "            temperature=0.7,\n",
    "            pad_token_id=tokenizer.eos_token_id\n",
    "        )\n",
    "    \n",
    "    response = tokenizer.decode(outputs[0], skip_special_tokens=True)\n",
    "    return response\n",
    "\n",
    "# Make sure your model is on CPU to avoid MPS issues\n",
    "model = model.to('cpu')\n",
    "\n",
    "# Test with sentiment classification prompt\n",
    "test_prompt = \"Classify the sentiment: 'This movie is amazing!' Sentiment:\"\n",
    "print(\"Base model response:\")\n",
    "print(test_model(model, tokenizer, test_prompt))"
   ]
  },
  {
   "cell_type": "markdown",
   "metadata": {},
   "source": [
    "## 5. Configure Prompt Tuning\n",
    "\n",
    "Now let's set up prompt tuning configuration:\n",
    "\n",
    "### Parameter Breakdown:\n",
    "\n",
    "- **`task_type=TaskType.CAUSAL_LM`**: Specifies causal language modeling (next token prediction)\n",
    "- **`num_virtual_tokens=16`**: Number of trainable soft prompt vectors (typically 8-32)\n",
    "- **`prompt_tuning_init=\"TEXT\"`**: Initialize from text embeddings (vs \"RANDOM\")\n",
    "- **`prompt_tuning_init_text`**: Text that gets converted to initial soft prompt embeddings\n",
    "- **`tokenizer_name_or_path`**: Tokenizer for encoding the initialization text\n",
    "\n",
    "The init text gets tokenized and embedded to create starting values for the 16 trainable vectors."
   ]
  },
  {
   "cell_type": "code",
   "execution_count": 30,
   "metadata": {},
   "outputs": [
    {
     "name": "stdout",
     "output_type": "stream",
     "text": [
      "Prompt tuning configuration:\n",
      "Virtual tokens: 16\n",
      "Initialization: TEXT\n",
      "Init text: Classify the sentiment as positive, negative, or neutral:\n"
     ]
    }
   ],
   "source": [
    "# Configure prompt tuning\n",
    "peft_config = PromptTuningConfig(\n",
    "    task_type=TaskType.CAUSAL_LM,\n",
    "    num_virtual_tokens=16,  # Number of soft prompt tokens\n",
    "    prompt_tuning_init=\"TEXT\",  # Initialize from text\n",
    "    prompt_tuning_init_text=\"Classify the sentiment as positive, negative, or neutral:\",\n",
    "    tokenizer_name_or_path=model_name,\n",
    ")\n",
    "\n",
    "print(\"Prompt tuning configuration:\")\n",
    "print(f\"Virtual tokens: {peft_config.num_virtual_tokens}\")\n",
    "print(f\"Initialization: {peft_config.prompt_tuning_init}\")\n",
    "print(f\"Init text: {peft_config.prompt_tuning_init_text}\")"
   ]
  },
  {
   "cell_type": "markdown",
   "metadata": {},
   "source": [
    "## 6. Create Prompt-Tunable Model\n",
    "\n",
    "Apply the prompt tuning configuration to our model:\n",
    "\n",
    "### What `get_peft_model()` Does:\n",
    "\n",
    "`get_peft_model()` is a function from the PEFT (Parameter-Efficient Fine-Tuning) library that wraps your base model with parameter-efficient fine-tuning capabilities. Here's what it does:\n",
    "\n",
    "1. **Wraps the base model**: Takes your original model and adds a PEFT adapter layer on top of it\n",
    "2. **Freezes base parameters**: Keeps the original model weights frozen (non-trainable)\n",
    "3. **Adds trainable parameters**: Introduces a small set of new trainable parameters based on your `peft_config`\n",
    "4. **Creates efficient training**: Enables fine-tuning with dramatically fewer parameters\n",
    "\n",
    "### In Prompt Tuning Specifically:\n",
    "\n",
    "When you use prompt tuning configuration, `get_peft_model()`:\n",
    "- Adds learnable \"soft prompts\" (continuous embeddings) to your model\n",
    "- These soft prompts are prepended to your input embeddings\n",
    "- Only these prompt embeddings are trainable - the rest of the model stays frozen\n",
    "\n",
    "### The Dramatic Parameter Reduction:\n",
    "\n",
    "```python\n",
    "# Before PEFT: entire model parameters (millions/billions)\n",
    "# After PEFT: only prompt tokens × embedding dimension\n",
    "\n",
    "# Example: If you have 16 prompt tokens and 576 embedding dimension\n",
    "# Trainable parameters = 16 × 576 = 9,216 parameters\n",
    "# vs. original model with ~134M parameters\n",
    "```\n",
    "\n",
    "### Benefits:\n",
    "\n",
    "- **Memory efficient**: Only stores gradients for a tiny fraction of parameters\n",
    "- **Fast training**: Much quicker to train than full fine-tuning\n",
    "- **Storage efficient**: Only need to save the small adapter weights\n",
    "- **Modular**: Can swap different adapters for different tasks\n",
    "\n",
    "The `print_trainable_parameters()` method shows you exactly how many parameters are trainable vs. frozen, demonstrating the efficiency gains of this approach."
   ]
  },
  {
   "cell_type": "code",
   "execution_count": 31,
   "metadata": {},
   "outputs": [
    {
     "name": "stdout",
     "output_type": "stream",
     "text": [
      "trainable params: 9,216 || all params: 134,524,224 || trainable%: 0.0069\n",
      "\n",
      "Prompt tuning model created!\n",
      "Only 9,216 parameters will be trained\n"
     ]
    }
   ],
   "source": [
    "# Create the prompt-tunable model\n",
    "model = get_peft_model(model, peft_config)\n",
    "\n",
    "# Print model info\n",
    "model.print_trainable_parameters()\n",
    "\n",
    "trainable_params = sum(p.numel() for p in model.parameters() if p.requires_grad)\n",
    "\n",
    "print(\"\\nPrompt tuning model created!\")\n",
    "print(f\"Only {trainable_params:,} parameters will be trained\")"
   ]
  },
  {
   "cell_type": "markdown",
   "metadata": {},
   "source": [
    "## 7. Prepare Training Data\n",
    "\n",
    "Create a simple sentiment classification dataset:"
   ]
  },
  {
   "cell_type": "code",
   "execution_count": 32,
   "metadata": {},
   "outputs": [
    {
     "name": "stdout",
     "output_type": "stream",
     "text": [
      "Training examples:\n",
      "1. Text: I love this movie! It's fantastic. Sentiment: positive\n",
      "2. Text: This film is terrible and boring. Sentiment: negative\n",
      "3. Text: The movie was okay, nothing special. Sentiment: neutral\n"
     ]
    }
   ],
   "source": [
    "# Create training data\n",
    "train_data = [\n",
    "    {\"text\": \"I love this movie! It's fantastic.\", \"label\": \"positive\"},\n",
    "    {\"text\": \"This film is terrible and boring.\", \"label\": \"negative\"},\n",
    "    {\"text\": \"The movie was okay, nothing special.\", \"label\": \"neutral\"},\n",
    "    {\"text\": \"Amazing acting and great story!\", \"label\": \"positive\"},\n",
    "    {\"text\": \"Worst movie I've ever seen.\", \"label\": \"negative\"},\n",
    "    {\"text\": \"It's an average film.\", \"label\": \"neutral\"},\n",
    "    {\"text\": \"Brilliant cinematography and direction!\", \"label\": \"positive\"},\n",
    "    {\"text\": \"Complete waste of time.\", \"label\": \"negative\"},\n",
    "    {\"text\": \"The movie is decent.\", \"label\": \"neutral\"},\n",
    "    {\"text\": \"Absolutely loved every minute!\", \"label\": \"positive\"},\n",
    "]\n",
    "\n",
    "def format_prompt(example):\n",
    "    \"\"\"Format the training examples\"\"\"\n",
    "    return f\"Text: {example['text']} Sentiment: {example['label']}\"\n",
    "\n",
    "# Format the data\n",
    "formatted_data = [format_prompt(ex) for ex in train_data]\n",
    "\n",
    "print(\"Training examples:\")\n",
    "for i, example in enumerate(formatted_data[:3]):\n",
    "    print(f\"{i+1}. {example}\")"
   ]
  },
  {
   "cell_type": "markdown",
   "metadata": {},
   "source": [
    "## 8. Tokenize Data"
   ]
  },
  {
   "cell_type": "code",
   "execution_count": 33,
   "metadata": {},
   "outputs": [
    {
     "data": {
      "application/vnd.jupyter.widget-view+json": {
       "model_id": "bc286d3d01db45dcbc626fd175ee9b1f",
       "version_major": 2,
       "version_minor": 0
      },
      "text/plain": [
       "Map:   0%|          | 0/10 [00:00<?, ? examples/s]"
      ]
     },
     "metadata": {},
     "output_type": "display_data"
    },
    {
     "data": {
      "application/vnd.jupyter.widget-view+json": {
       "model_id": "ec53d5674d98457fb5f61b04ce45541a",
       "version_major": 2,
       "version_minor": 0
      },
      "text/plain": [
       "Map:   0%|          | 0/10 [00:00<?, ? examples/s]"
      ]
     },
     "metadata": {},
     "output_type": "display_data"
    },
    {
     "name": "stdout",
     "output_type": "stream",
     "text": [
      "Dataset created with 10 examples\n"
     ]
    }
   ],
   "source": [
    "def tokenize_function(examples):\n",
    "    \"\"\"Tokenize the training data\"\"\"\n",
    "    # Ensure we're working with a list of strings\n",
    "    texts = examples[\"text\"] if isinstance(examples[\"text\"], list) else [examples[\"text\"]]\n",
    "    \n",
    "    tokenized = tokenizer(\n",
    "        texts,\n",
    "        truncation=True,\n",
    "        padding=True,  # Changed from \"max_length\" to True\n",
    "        max_length=128,\n",
    "        return_tensors=\"pt\"\n",
    "    )\n",
    "    \n",
    "    # Convert to lists for dataset compatibility\n",
    "    return {\n",
    "        \"input_ids\": tokenized[\"input_ids\"].tolist(),\n",
    "        \"attention_mask\": tokenized[\"attention_mask\"].tolist()\n",
    "    }\n",
    "\n",
    "# Create dataset\n",
    "dataset = Dataset.from_dict({\"text\": formatted_data})\n",
    "tokenized_dataset = dataset.map(tokenize_function, batched=True, remove_columns=[\"text\"])\n",
    "\n",
    "# Add labels (for language modeling, labels = input_ids)\n",
    "def add_labels(example):\n",
    "    example[\"labels\"] = example[\"input_ids\"].copy()\n",
    "    return example\n",
    "\n",
    "tokenized_dataset = tokenized_dataset.map(add_labels)\n",
    "\n",
    "print(f\"Dataset created with {len(tokenized_dataset)} examples\")"
   ]
  },
  {
   "cell_type": "markdown",
   "metadata": {},
   "source": [
    "## 9. Set Up Training\n",
    "\n",
    "Configure the training arguments and trainer:"
   ]
  },
  {
   "cell_type": "code",
   "execution_count": 34,
   "metadata": {},
   "outputs": [
    {
     "name": "stderr",
     "output_type": "stream",
     "text": [
      "/var/folders/8l/3d0f4vcj0yg2wp7xfhgh7rrm0000gq/T/ipykernel_2339/3591854059.py:13: FutureWarning: `tokenizer` is deprecated and will be removed in version 5.0.0 for `Trainer.__init__`. Use `processing_class` instead.\n",
      "  trainer = Trainer(\n",
      "No label_names provided for model class `PeftModelForCausalLM`. Since `PeftModel` hides base models input arguments, if label_names is not given, label_names can't be set automatically within `Trainer`. Note that empty label_names list will be used instead.\n"
     ]
    },
    {
     "name": "stdout",
     "output_type": "stream",
     "text": [
      "Trainer configured successfully!\n"
     ]
    }
   ],
   "source": [
    "# Training arguments\n",
    "training_args = TrainingArguments(\n",
    "    output_dir=\"./prompt_tuning_results\",\n",
    "    num_train_epochs=3,\n",
    "    per_device_train_batch_size=2,\n",
    "    learning_rate=1e-3,  # Higher learning rate for prompt tuning\n",
    "    logging_steps=5,\n",
    "    save_strategy=\"no\",\n",
    "    remove_unused_columns=False,\n",
    ")\n",
    "\n",
    "# Create trainer\n",
    "trainer = Trainer(\n",
    "    model=model,\n",
    "    args=training_args,\n",
    "    train_dataset=tokenized_dataset,\n",
    "    tokenizer=tokenizer,\n",
    ")\n",
    "\n",
    "print(\"Trainer configured successfully!\")"
   ]
  },
  {
   "cell_type": "markdown",
   "metadata": {},
   "source": [
    "## 10. Train the Model\n",
    "\n",
    "Now let's train the soft prompts:"
   ]
  },
  {
   "cell_type": "code",
   "execution_count": 35,
   "metadata": {},
   "outputs": [
    {
     "name": "stdout",
     "output_type": "stream",
     "text": [
      "Starting prompt tuning training...\n"
     ]
    },
    {
     "data": {
      "text/html": [
       "\n",
       "    <div>\n",
       "      \n",
       "      <progress value='15' max='15' style='width:300px; height:20px; vertical-align: middle;'></progress>\n",
       "      [15/15 00:01, Epoch 3/3]\n",
       "    </div>\n",
       "    <table border=\"1\" class=\"dataframe\">\n",
       "  <thead>\n",
       " <tr style=\"text-align: left;\">\n",
       "      <th>Step</th>\n",
       "      <th>Training Loss</th>\n",
       "    </tr>\n",
       "  </thead>\n",
       "  <tbody>\n",
       "    <tr>\n",
       "      <td>5</td>\n",
       "      <td>5.377900</td>\n",
       "    </tr>\n",
       "    <tr>\n",
       "      <td>10</td>\n",
       "      <td>4.999400</td>\n",
       "    </tr>\n",
       "    <tr>\n",
       "      <td>15</td>\n",
       "      <td>4.834200</td>\n",
       "    </tr>\n",
       "  </tbody>\n",
       "</table><p>"
      ],
      "text/plain": [
       "<IPython.core.display.HTML object>"
      ]
     },
     "metadata": {},
     "output_type": "display_data"
    },
    {
     "name": "stdout",
     "output_type": "stream",
     "text": [
      "Training completed!\n"
     ]
    }
   ],
   "source": [
    "print(\"Starting prompt tuning training...\")\n",
    "trainer.train()\n",
    "print(\"Training completed!\")"
   ]
  },
  {
   "cell_type": "markdown",
   "metadata": {},
   "source": [
    "## 11. Test the Trained Model\n",
    "\n",
    "Let's see how the model performs after prompt tuning:"
   ]
  },
  {
   "cell_type": "code",
   "execution_count": 36,
   "metadata": {},
   "outputs": [
    {
     "name": "stdout",
     "output_type": "stream",
     "text": [
      "Testing prompt-tuned model:\n",
      "==================================================\n",
      "Test 1:\n",
      "Input: Text: This movie is incredible! Sentiment:\n",
      "Output: Text: This movie is incredible! Sentiment: +\n",
      "------------------------------\n",
      "Test 2:\n",
      "Input: Text: I hated this film. Sentiment:\n",
      "Output: Text: I hated this film. Sentiment: +\n",
      "------------------------------\n",
      "Test 3:\n",
      "Input: Text: The movie was fine. Sentiment:\n",
      "Output: Text: The movie was fine. Sentiment:Positive\n",
      "------------------------------\n"
     ]
    }
   ],
   "source": [
    "# Test the trained model\n",
    "test_examples = [\n",
    "    \"Text: This movie is incredible! Sentiment:\",\n",
    "    \"Text: I hated this film. Sentiment:\",\n",
    "    \"Text: The movie was fine. Sentiment:\",\n",
    "]\n",
    "\n",
    "print(\"Testing prompt-tuned model:\")\n",
    "print(\"=\" * 50)\n",
    "\n",
    "for i, example in enumerate(test_examples):\n",
    "    response = test_model(model, tokenizer, example, max_length=len(example.split()) + 5)\n",
    "    print(f\"Test {i+1}:\")\n",
    "    print(f\"Input: {example}\")\n",
    "    print(f\"Output: {response}\")\n",
    "    print(\"-\" * 30)"
   ]
  },
  {
   "cell_type": "markdown",
   "metadata": {},
   "source": [
    "## 12. Save the Prompt-Tuned Model\n",
    "\n",
    "Save only the prompt parameters (very small file!):"
   ]
  },
  {
   "cell_type": "code",
   "execution_count": 39,
   "metadata": {},
   "outputs": [
    {
     "name": "stdout",
     "output_type": "stream",
     "text": [
      "Prompt tuning adapter saved!\n",
      "Only the soft prompt parameters are saved, not the entire model.\n",
      "Files saved: ['adapter_model.safetensors', 'README.md', 'adapter_config.json']\n",
      "Adapter file: adapter_model.safetensors\n",
      "Adapter file size: 36.12 KB\n"
     ]
    }
   ],
   "source": [
    "# Save the prompt tuning adapter\n",
    "model.save_pretrained(\"./smol_prompt_tuned\")\n",
    "\n",
    "print(\"Prompt tuning adapter saved!\")\n",
    "print(\"Only the soft prompt parameters are saved, not the entire model.\")\n",
    "\n",
    "# Check file size - try both possible formats\n",
    "import os\n",
    "\n",
    "# Check what files were actually saved\n",
    "saved_files = os.listdir(\"./smol_prompt_tuned\")\n",
    "print(f\"Files saved: {saved_files}\")\n",
    "\n",
    "# Try to find the adapter file\n",
    "adapter_file = None\n",
    "possible_names = [\"adapter_model.safetensors\", \"adapter_model.bin\", \"pytorch_model.bin\"]\n",
    "\n",
    "for filename in possible_names:\n",
    "    filepath = f\"./smol_prompt_tuned/{filename}\"\n",
    "    if os.path.exists(filepath):\n",
    "        adapter_file = filepath\n",
    "        break\n",
    "\n",
    "if adapter_file:\n",
    "    adapter_size = os.path.getsize(adapter_file)\n",
    "    print(f\"Adapter file: {os.path.basename(adapter_file)}\")\n",
    "    print(f\"Adapter file size: {adapter_size / 1024:.2f} KB\")\n",
    "else:\n",
    "    print(\"Could not find adapter file\")"
   ]
  },
  {
   "cell_type": "markdown",
   "metadata": {},
   "source": [
    "## 13. Load and Use Saved Model\n",
    "\n",
    "Demonstrate how to load the prompt-tuned model:"
   ]
  },
  {
   "cell_type": "code",
   "execution_count": 40,
   "metadata": {},
   "outputs": [
    {
     "name": "stdout",
     "output_type": "stream",
     "text": [
      "Model loaded successfully!\n",
      "\n",
      "Test with loaded model:\n",
      "Input: Text: This is an amazing experience! Sentiment:\n",
      "Output: Text: This is an amazing experience! Sentiment: Happy. For example, you might define a sentiment as a type of emotion. It may be negative, neutral, or positive. When we say that a sentiment is “positive,” we mean it\n"
     ]
    }
   ],
   "source": [
    "from peft import PeftModel\n",
    "\n",
    "# Load base model again\n",
    "base_model = AutoModelForCausalLM.from_pretrained(\n",
    "    model_name,\n",
    "    torch_dtype=torch.float16,\n",
    "    device_map=\"auto\"\n",
    ")\n",
    "\n",
    "# Load the prompt tuning adapter\n",
    "loaded_model = PeftModel.from_pretrained(base_model, \"./smol_prompt_tuned\")\n",
    "\n",
    "print(\"Model loaded successfully!\")\n",
    "\n",
    "# Test the loaded model\n",
    "test_text = \"Text: This is an amazing experience! Sentiment:\"\n",
    "result = test_model(loaded_model, tokenizer, test_text)\n",
    "print(f\"\\nTest with loaded model:\")\n",
    "print(f\"Input: {test_text}\")\n",
    "print(f\"Output: {result}\")"
   ]
  },
  {
   "cell_type": "markdown",
   "metadata": {},
   "source": [
    "## 14. Summary\n",
    "\n",
    "### What We Accomplished:\n",
    "\n",
    "1. **Loaded SmolLM2-135M** - A small but capable language model\n",
    "2. **Configured Prompt Tuning** - Set up 16 virtual tokens initialized from text\n",
    "3. **Trained Soft Prompts** - Only trained ~8K parameters instead of 135M\n",
    "4. **Achieved Task Adaptation** - Model learned sentiment classification\n",
    "5. **Saved Efficiently** - Adapter file is only a few KB\n",
    "\n",
    "### Key Benefits of Prompt Tuning:\n",
    "\n",
    "- **Parameter Efficient**: Only 0.006% of model parameters trained\n",
    "- **Fast Training**: Quick convergence with small dataset\n",
    "- **Easy Deployment**: Tiny adapter files for different tasks\n",
    "- **Task Switching**: Can quickly switch between different prompt-tuned tasks\n",
    "\n",
    "### Next Steps:\n",
    "\n",
    "- Try different initialization strategies (random vs text)\n",
    "- Experiment with different numbers of virtual tokens\n",
    "- Test on more complex tasks\n",
    "- Compare with LoRA and full fine-tuning approaches"
   ]
  },
  {
   "cell_type": "code",
   "execution_count": null,
   "metadata": {},
   "outputs": [],
   "source": []
  }
 ],
 "metadata": {
  "kernelspec": {
   "display_name": "Python 3 (ipykernel)",
   "language": "python",
   "name": "python3"
  },
  "language_info": {
   "codemirror_mode": {
    "name": "ipython",
    "version": 3
   },
   "file_extension": ".py",
   "mimetype": "text/x-python",
   "name": "python",
   "nbconvert_exporter": "python",
   "pygments_lexer": "ipython3",
   "version": "3.13.0"
  }
 },
 "nbformat": 4,
 "nbformat_minor": 4
}
