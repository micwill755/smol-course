{
 "cells": [
  {
   "cell_type": "markdown",
   "metadata": {},
   "source": [
    "# Prompt Tuning with SmolLM: A Beginner's Guide\n",
    "\n",
    "This notebook demonstrates how to set up and use prompt tuning with a SmolLM model using the PEFT library. Prompt tuning is a parameter-efficient method that adds trainable \"soft prompts\" while keeping the base model frozen.\n",
    "\n",
    "## What You'll Learn\n",
    "- How to load a SmolLM model\n",
    "- Configure prompt tuning with PEFT\n",
    "- Train soft prompts for sentiment classification\n",
    "- Compare performance with and without prompt tuning"
   ]
  },
  {
   "cell_type": "markdown",
   "metadata": {},
   "source": [
    "## 1. Install Dependencies\n",
    "\n",
    "First, let's install the required packages:"
   ]
  },
  {
   "cell_type": "code",
   "execution_count": 1,
   "metadata": {},
   "outputs": [
    {
     "name": "stdout",
     "output_type": "stream",
     "text": [
      "Requirement already satisfied: transformers in /opt/homebrew/lib/python3.13/site-packages (4.56.0.dev0)\n",
      "Requirement already satisfied: peft in /opt/homebrew/lib/python3.13/site-packages (0.17.2.dev0)\n",
      "Requirement already satisfied: torch in /opt/homebrew/lib/python3.13/site-packages (2.7.1)\n",
      "Requirement already satisfied: datasets in /opt/homebrew/lib/python3.13/site-packages (4.0.0)\n",
      "Requirement already satisfied: accelerate in /opt/homebrew/lib/python3.13/site-packages (1.10.0)\n",
      "Requirement already satisfied: filelock in /opt/homebrew/lib/python3.13/site-packages (from transformers) (3.18.0)\n",
      "Requirement already satisfied: huggingface-hub<1.0,>=0.34.0 in /opt/homebrew/lib/python3.13/site-packages (from transformers) (0.34.4)\n",
      "Requirement already satisfied: numpy>=1.17 in /opt/homebrew/lib/python3.13/site-packages (from transformers) (2.3.2)\n",
      "Requirement already satisfied: packaging>=20.0 in /opt/homebrew/lib/python3.13/site-packages (from transformers) (25.0)\n",
      "Requirement already satisfied: pyyaml>=5.1 in /opt/homebrew/lib/python3.13/site-packages (from transformers) (6.0.2)\n",
      "Requirement already satisfied: regex!=2019.12.17 in /opt/homebrew/lib/python3.13/site-packages (from transformers) (2025.7.34)\n",
      "Requirement already satisfied: requests in /opt/homebrew/lib/python3.13/site-packages (from transformers) (2.32.4)\n",
      "Requirement already satisfied: tokenizers<0.22,>=0.21 in /opt/homebrew/lib/python3.13/site-packages (from transformers) (0.21.4)\n",
      "Requirement already satisfied: safetensors>=0.4.3 in /opt/homebrew/lib/python3.13/site-packages (from transformers) (0.6.2)\n",
      "Requirement already satisfied: tqdm>=4.27 in /opt/homebrew/lib/python3.13/site-packages (from transformers) (4.67.1)\n",
      "Requirement already satisfied: fsspec>=2023.5.0 in /opt/homebrew/lib/python3.13/site-packages (from huggingface-hub<1.0,>=0.34.0->transformers) (2025.3.0)\n",
      "Requirement already satisfied: typing-extensions>=3.7.4.3 in /opt/homebrew/lib/python3.13/site-packages (from huggingface-hub<1.0,>=0.34.0->transformers) (4.14.1)\n",
      "Requirement already satisfied: hf-xet<2.0.0,>=1.1.3 in /opt/homebrew/lib/python3.13/site-packages (from huggingface-hub<1.0,>=0.34.0->transformers) (1.1.7)\n",
      "Requirement already satisfied: psutil in /opt/homebrew/lib/python3.13/site-packages (from peft) (7.0.0)\n",
      "Requirement already satisfied: setuptools in /opt/homebrew/lib/python3.13/site-packages (from torch) (80.9.0)\n",
      "Requirement already satisfied: sympy>=1.13.3 in /opt/homebrew/lib/python3.13/site-packages (from torch) (1.14.0)\n",
      "Requirement already satisfied: networkx in /opt/homebrew/lib/python3.13/site-packages (from torch) (3.5)\n",
      "Requirement already satisfied: jinja2 in /opt/homebrew/lib/python3.13/site-packages (from torch) (3.1.6)\n",
      "Requirement already satisfied: pyarrow>=15.0.0 in /opt/homebrew/lib/python3.13/site-packages (from datasets) (21.0.0)\n",
      "Requirement already satisfied: dill<0.3.9,>=0.3.0 in /opt/homebrew/lib/python3.13/site-packages (from datasets) (0.3.8)\n",
      "Requirement already satisfied: pandas in /opt/homebrew/lib/python3.13/site-packages (from datasets) (2.3.1)\n",
      "Requirement already satisfied: xxhash in /opt/homebrew/lib/python3.13/site-packages (from datasets) (3.5.0)\n",
      "Requirement already satisfied: multiprocess<0.70.17 in /opt/homebrew/lib/python3.13/site-packages (from datasets) (0.70.16)\n",
      "Requirement already satisfied: aiohttp!=4.0.0a0,!=4.0.0a1 in /opt/homebrew/lib/python3.13/site-packages (from fsspec[http]<=2025.3.0,>=2023.1.0->datasets) (3.12.15)\n",
      "Requirement already satisfied: aiohappyeyeballs>=2.5.0 in /opt/homebrew/lib/python3.13/site-packages (from aiohttp!=4.0.0a0,!=4.0.0a1->fsspec[http]<=2025.3.0,>=2023.1.0->datasets) (2.6.1)\n",
      "Requirement already satisfied: aiosignal>=1.4.0 in /opt/homebrew/lib/python3.13/site-packages (from aiohttp!=4.0.0a0,!=4.0.0a1->fsspec[http]<=2025.3.0,>=2023.1.0->datasets) (1.4.0)\n",
      "Requirement already satisfied: attrs>=17.3.0 in /opt/homebrew/lib/python3.13/site-packages (from aiohttp!=4.0.0a0,!=4.0.0a1->fsspec[http]<=2025.3.0,>=2023.1.0->datasets) (25.3.0)\n",
      "Requirement already satisfied: frozenlist>=1.1.1 in /opt/homebrew/lib/python3.13/site-packages (from aiohttp!=4.0.0a0,!=4.0.0a1->fsspec[http]<=2025.3.0,>=2023.1.0->datasets) (1.7.0)\n",
      "Requirement already satisfied: multidict<7.0,>=4.5 in /opt/homebrew/lib/python3.13/site-packages (from aiohttp!=4.0.0a0,!=4.0.0a1->fsspec[http]<=2025.3.0,>=2023.1.0->datasets) (6.6.4)\n",
      "Requirement already satisfied: propcache>=0.2.0 in /opt/homebrew/lib/python3.13/site-packages (from aiohttp!=4.0.0a0,!=4.0.0a1->fsspec[http]<=2025.3.0,>=2023.1.0->datasets) (0.3.2)\n",
      "Requirement already satisfied: yarl<2.0,>=1.17.0 in /opt/homebrew/lib/python3.13/site-packages (from aiohttp!=4.0.0a0,!=4.0.0a1->fsspec[http]<=2025.3.0,>=2023.1.0->datasets) (1.20.1)\n",
      "Requirement already satisfied: idna>=2.0 in /opt/homebrew/lib/python3.13/site-packages (from yarl<2.0,>=1.17.0->aiohttp!=4.0.0a0,!=4.0.0a1->fsspec[http]<=2025.3.0,>=2023.1.0->datasets) (3.10)\n",
      "Requirement already satisfied: charset_normalizer<4,>=2 in /opt/homebrew/lib/python3.13/site-packages (from requests->transformers) (3.4.2)\n",
      "Requirement already satisfied: urllib3<3,>=1.21.1 in /opt/homebrew/lib/python3.13/site-packages (from requests->transformers) (2.5.0)\n",
      "Requirement already satisfied: certifi>=2017.4.17 in /opt/homebrew/lib/python3.13/site-packages (from requests->transformers) (2025.6.15)\n",
      "Requirement already satisfied: mpmath<1.4,>=1.1.0 in /opt/homebrew/lib/python3.13/site-packages (from sympy>=1.13.3->torch) (1.3.0)\n",
      "Requirement already satisfied: MarkupSafe>=2.0 in /opt/homebrew/lib/python3.13/site-packages (from jinja2->torch) (3.0.2)\n",
      "Requirement already satisfied: python-dateutil>=2.8.2 in /opt/homebrew/lib/python3.13/site-packages (from pandas->datasets) (2.9.0.post0)\n",
      "Requirement already satisfied: pytz>=2020.1 in /opt/homebrew/lib/python3.13/site-packages (from pandas->datasets) (2025.2)\n",
      "Requirement already satisfied: tzdata>=2022.7 in /opt/homebrew/lib/python3.13/site-packages (from pandas->datasets) (2025.2)\n",
      "Requirement already satisfied: six>=1.5 in /opt/homebrew/lib/python3.13/site-packages (from python-dateutil>=2.8.2->pandas->datasets) (1.17.0)\n"
     ]
    }
   ],
   "source": [
    "!pip install transformers peft torch datasets accelerate"
   ]
  },
  {
   "cell_type": "markdown",
   "metadata": {},
   "source": [
    "## 2. Import Libraries"
   ]
  },
  {
   "cell_type": "code",
   "execution_count": null,
   "metadata": {},
   "outputs": [],
   "source": [
    "import torch\n",
    "from transformers import AutoModelForCausalLM, AutoTokenizer, TrainingArguments, Trainer\n",
    "from peft import PromptTuningConfig, TaskType, get_peft_model\n",
    "from datasets import Dataset\n",
    "import numpy as np"
   ]
  },
  {
   "cell_type": "markdown",
   "metadata": {},
   "source": [
    "## 3. Load SmolLM Model and Tokenizer\n",
    "\n",
    "We'll use SmolLM2-135M, a small but capable language model:"
   ]
  },
  {
   "cell_type": "code",
   "execution_count": null,
   "metadata": {},
   "outputs": [],
   "source": [
    "# Load the base model and tokenizer\n",
    "model_name = \"HuggingFaceTB/SmolLM2-135M\"\n",
    "\n",
    "model = AutoModelForCausalLM.from_pretrained(\n",
    "    model_name,\n",
    "    torch_dtype=torch.float16,\n",
    "    device_map=\"auto\"\n",
    ")\n",
    "\n",
    "tokenizer = AutoTokenizer.from_pretrained(model_name)\n",
    "\n",
    "# Add padding token if it doesn't exist\n",
    "if tokenizer.pad_token is None:\n",
    "    tokenizer.pad_token = tokenizer.eos_token\n",
    "\n",
    "print(f\"Model loaded: {model_name}\")\n",
    "print(f\"Model parameters: {model.num_parameters():,}\")"
   ]
  },
  {
   "cell_type": "markdown",
   "metadata": {},
   "source": [
    "## 4. Test Base Model (Before Prompt Tuning)\n",
    "\n",
    "Let's see how the model performs on sentiment classification without any training:"
   ]
  },
  {
   "cell_type": "code",
   "execution_count": null,
   "metadata": {},
   "outputs": [],
   "source": [
    "def test_model(model, tokenizer, text, max_length=50):\n",
    "    \"\"\"Test the model with a given input text\"\"\"\n",
    "    inputs = tokenizer(text, return_tensors=\"pt\", padding=True)\n",
    "    \n",
    "    with torch.no_grad():\n",
    "        outputs = model.generate(\n",
    "            **inputs,\n",
    "            max_length=max_length,\n",
    "            do_sample=True,\n",
    "            temperature=0.7,\n",
    "            pad_token_id=tokenizer.eos_token_id\n",
    "        )\n",
    "    \n",
    "    response = tokenizer.decode(outputs[0], skip_special_tokens=True)\n",
    "    return response\n",
    "\n",
    "# Test with sentiment classification prompt\n",
    "test_prompt = \"Classify the sentiment: 'This movie is amazing!' Sentiment:\"\n",
    "print(\"Base model response:\")\n",
    "print(test_model(model, tokenizer, test_prompt))"
   ]
  },
  {
   "cell_type": "markdown",
   "metadata": {},
   "source": [
    "## 5. Configure Prompt Tuning\n",
    "\n",
    "Now let's set up prompt tuning configuration:\n",
    "\n",
    "### Parameter Breakdown:\n",
    "\n",
    "- **`task_type=TaskType.CAUSAL_LM`**: Specifies causal language modeling (next token prediction)\n",
    "- **`num_virtual_tokens=16`**: Number of trainable soft prompt vectors (typically 8-32)\n",
    "- **`prompt_tuning_init=\"TEXT\"`**: Initialize from text embeddings (vs \"RANDOM\")\n",
    "- **`prompt_tuning_init_text`**: Text that gets converted to initial soft prompt embeddings\n",
    "- **`tokenizer_name_or_path`**: Tokenizer for encoding the initialization text\n",
    "\n",
    "The init text gets tokenized and embedded to create starting values for the 16 trainable vectors."
   ]
  },
  {
   "cell_type": "code",
   "execution_count": null,
   "metadata": {},
   "outputs": [],
   "source": [
    "# Configure prompt tuning\n",
    "peft_config = PromptTuningConfig(\n",
    "    task_type=TaskType.CAUSAL_LM,\n",
    "    num_virtual_tokens=16,  # Number of soft prompt tokens\n",
    "    prompt_tuning_init=\"TEXT\",  # Initialize from text\n",
    "    prompt_tuning_init_text=\"Classify the sentiment as positive, negative, or neutral:\",\n",
    "    tokenizer_name_or_path=model_name,\n",
    ")\n",
    "\n",
    "print(\"Prompt tuning configuration:\")\n",
    "print(f\"Virtual tokens: {peft_config.num_virtual_tokens}\")\n",
    "print(f\"Initialization: {peft_config.prompt_tuning_init}\")\n",
    "print(f\"Init text: {peft_config.prompt_tuning_init_text}\")"
   ]
  },
  {
   "cell_type": "markdown",
   "metadata": {},
   "source": [
    "## 6. Create Prompt-Tunable Model\n",
    "\n",
    "Apply the prompt tuning configuration to our model:"
   ]
  },
  {
   "cell_type": "code",
   "execution_count": null,
   "metadata": {},
   "outputs": [],
   "source": [
    "# Create the prompt-tunable model\n",
    "model = get_peft_model(model, peft_config)\n",
    "\n",
    "# Print model info\n",
    "model.print_trainable_parameters()\n",
    "\n",
    "print(\"\\nPrompt tuning model created!\")\n",
    "print(f\"Only {model.num_parameters(only_trainable=True):,} parameters will be trained\")"
   ]
  },
  {
   "cell_type": "markdown",
   "metadata": {},
   "source": [
    "## 7. Prepare Training Data\n",
    "\n",
    "Create a simple sentiment classification dataset:"
   ]
  },
  {
   "cell_type": "code",
   "execution_count": null,
   "metadata": {},
   "outputs": [],
   "source": [
    "# Create training data\n",
    "train_data = [\n",
    "    {\"text\": \"I love this movie! It's fantastic.\", \"label\": \"positive\"},\n",
    "    {\"text\": \"This film is terrible and boring.\", \"label\": \"negative\"},\n",
    "    {\"text\": \"The movie was okay, nothing special.\", \"label\": \"neutral\"},\n",
    "    {\"text\": \"Amazing acting and great story!\", \"label\": \"positive\"},\n",
    "    {\"text\": \"Worst movie I've ever seen.\", \"label\": \"negative\"},\n",
    "    {\"text\": \"It's an average film.\", \"label\": \"neutral\"},\n",
    "    {\"text\": \"Brilliant cinematography and direction!\", \"label\": \"positive\"},\n",
    "    {\"text\": \"Complete waste of time.\", \"label\": \"negative\"},\n",
    "    {\"text\": \"The movie is decent.\", \"label\": \"neutral\"},\n",
    "    {\"text\": \"Absolutely loved every minute!\", \"label\": \"positive\"},\n",
    "]\n",
    "\n",
    "def format_prompt(example):\n",
    "    \"\"\"Format the training examples\"\"\"\n",
    "    return f\"Text: {example['text']} Sentiment: {example['label']}\"\n",
    "\n",
    "# Format the data\n",
    "formatted_data = [format_prompt(ex) for ex in train_data]\n",
    "\n",
    "print(\"Training examples:\")\n",
    "for i, example in enumerate(formatted_data[:3]):\n",
    "    print(f\"{i+1}. {example}\")"
   ]
  },
  {
   "cell_type": "markdown",
   "metadata": {},
   "source": [
    "## 8. Tokenize Data"
   ]
  },
  {
   "cell_type": "code",
   "execution_count": null,
   "metadata": {},
   "outputs": [],
   "source": [
    "def tokenize_function(examples):\n",
    "    \"\"\"Tokenize the training data\"\"\"\n",
    "    return tokenizer(\n",
    "        examples[\"text\"],\n",
    "        truncation=True,\n",
    "        padding=\"max_length\",\n",
    "        max_length=128,\n",
    "        return_tensors=\"pt\"\n",
    "    )\n",
    "\n",
    "# Create dataset\n",
    "dataset = Dataset.from_dict({\"text\": formatted_data})\n",
    "tokenized_dataset = dataset.map(tokenize_function, batched=True)\n",
    "\n",
    "# Add labels (for language modeling, labels = input_ids)\n",
    "def add_labels(example):\n",
    "    example[\"labels\"] = example[\"input_ids\"].copy()\n",
    "    return example\n",
    "\n",
    "tokenized_dataset = tokenized_dataset.map(add_labels)\n",
    "\n",
    "print(f\"Dataset created with {len(tokenized_dataset)} examples\")"
   ]
  },
  {
   "cell_type": "markdown",
   "metadata": {},
   "source": [
    "## 9. Set Up Training\n",
    "\n",
    "Configure the training arguments and trainer:"
   ]
  },
  {
   "cell_type": "code",
   "execution_count": null,
   "metadata": {},
   "outputs": [],
   "source": [
    "# Training arguments\n",
    "training_args = TrainingArguments(\n",
    "    output_dir=\"./prompt_tuning_results\",\n",
    "    num_train_epochs=3,\n",
    "    per_device_train_batch_size=2,\n",
    "    learning_rate=1e-3,  # Higher learning rate for prompt tuning\n",
    "    logging_steps=5,\n",
    "    save_strategy=\"no\",\n",
    "    remove_unused_columns=False,\n",
    ")\n",
    "\n",
    "# Create trainer\n",
    "trainer = Trainer(\n",
    "    model=model,\n",
    "    args=training_args,\n",
    "    train_dataset=tokenized_dataset,\n",
    "    tokenizer=tokenizer,\n",
    ")\n",
    "\n",
    "print(\"Trainer configured successfully!\")"
   ]
  },
  {
   "cell_type": "markdown",
   "metadata": {},
   "source": [
    "## 10. Train the Model\n",
    "\n",
    "Now let's train the soft prompts:"
   ]
  },
  {
   "cell_type": "code",
   "execution_count": null,
   "metadata": {},
   "outputs": [],
   "source": [
    "print(\"Starting prompt tuning training...\")\n",
    "trainer.train()\n",
    "print(\"Training completed!\")"
   ]
  },
  {
   "cell_type": "markdown",
   "metadata": {},
   "source": [
    "## 11. Test the Trained Model\n",
    "\n",
    "Let's see how the model performs after prompt tuning:"
   ]
  },
  {
   "cell_type": "code",
   "execution_count": null,
   "metadata": {},
   "outputs": [],
   "source": [
    "# Test the trained model\n",
    "test_examples = [\n",
    "    \"Text: This movie is incredible! Sentiment:\",\n",
    "    \"Text: I hated this film. Sentiment:\",\n",
    "    \"Text: The movie was fine. Sentiment:\",\n",
    "]\n",
    "\n",
    "print(\"Testing prompt-tuned model:\")\n",
    "print(\"=\" * 50)\n",
    "\n",
    "for i, example in enumerate(test_examples):\n",
    "    response = test_model(model, tokenizer, example, max_length=len(example.split()) + 5)\n",
    "    print(f\"Test {i+1}:\")\n",
    "    print(f\"Input: {example}\")\n",
    "    print(f\"Output: {response}\")\n",
    "    print(\"-\" * 30)"
   ]
  },
  {
   "cell_type": "markdown",
   "metadata": {},
   "source": [
    "## 12. Save the Prompt-Tuned Model\n",
    "\n",
    "Save only the prompt parameters (very small file!):"
   ]
  },
  {
   "cell_type": "code",
   "execution_count": null,
   "metadata": {},
   "outputs": [],
   "source": [
    "# Save the prompt tuning adapter\n",
    "model.save_pretrained(\"./smol_prompt_tuned\")\n",
    "\n",
    "print(\"Prompt tuning adapter saved!\")\n",
    "print(\"Only the soft prompt parameters are saved, not the entire model.\")\n",
    "\n",
    "# Check file size\n",
    "import os\n",
    "adapter_size = os.path.getsize(\"./smol_prompt_tuned/adapter_model.bin\")\n",
    "print(f\"Adapter file size: {adapter_size / 1024:.2f} KB\")"
   ]
  },
  {
   "cell_type": "markdown",
   "metadata": {},
   "source": [
    "## 13. Load and Use Saved Model\n",
    "\n",
    "Demonstrate how to load the prompt-tuned model:"
   ]
  },
  {
   "cell_type": "code",
   "execution_count": null,
   "metadata": {},
   "outputs": [],
   "source": [
    "from peft import PeftModel\n",
    "\n",
    "# Load base model again\n",
    "base_model = AutoModelForCausalLM.from_pretrained(\n",
    "    model_name,\n",
    "    torch_dtype=torch.float16,\n",
    "    device_map=\"auto\"\n",
    ")\n",
    "\n",
    "# Load the prompt tuning adapter\n",
    "loaded_model = PeftModel.from_pretrained(base_model, \"./smol_prompt_tuned\")\n",
    "\n",
    "print(\"Model loaded successfully!\")\n",
    "\n",
    "# Test the loaded model\n",
    "test_text = \"Text: This is an amazing experience! Sentiment:\"\n",
    "result = test_model(loaded_model, tokenizer, test_text)\n",
    "print(f\"\\nTest with loaded model:\")\n",
    "print(f\"Input: {test_text}\")\n",
    "print(f\"Output: {result}\")"
   ]
  },
  {
   "cell_type": "markdown",
   "metadata": {},
   "source": [
    "## 14. Summary\n",
    "\n",
    "### What We Accomplished:\n",
    "\n",
    "1. **Loaded SmolLM2-135M** - A small but capable language model\n",
    "2. **Configured Prompt Tuning** - Set up 16 virtual tokens initialized from text\n",
    "3. **Trained Soft Prompts** - Only trained ~8K parameters instead of 135M\n",
    "4. **Achieved Task Adaptation** - Model learned sentiment classification\n",
    "5. **Saved Efficiently** - Adapter file is only a few KB\n",
    "\n",
    "### Key Benefits of Prompt Tuning:\n",
    "\n",
    "- **Parameter Efficient**: Only 0.006% of model parameters trained\n",
    "- **Fast Training**: Quick convergence with small dataset\n",
    "- **Easy Deployment**: Tiny adapter files for different tasks\n",
    "- **Task Switching**: Can quickly switch between different prompt-tuned tasks\n",
    "\n",
    "### Next Steps:\n",
    "\n",
    "- Try different initialization strategies (random vs text)\n",
    "- Experiment with different numbers of virtual tokens\n",
    "- Test on more complex tasks\n",
    "- Compare with LoRA and full fine-tuning approaches"
   ]
  }
 ],
 "metadata": {
  "kernelspec": {
   "display_name": "Python 3 (ipykernel)",
   "language": "python",
   "name": "python3"
  },
  "language_info": {
   "codemirror_mode": {
    "name": "ipython",
    "version": 3
   },
   "file_extension": ".py",
   "mimetype": "text/x-python",
   "name": "python",
   "nbconvert_exporter": "python",
   "pygments_lexer": "ipython3",
   "version": "3.13.5"
  }
 },
 "nbformat": 4,
 "nbformat_minor": 4
}
